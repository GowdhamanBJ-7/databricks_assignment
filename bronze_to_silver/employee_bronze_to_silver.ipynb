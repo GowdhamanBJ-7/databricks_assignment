{
 "cells": [
  {
   "cell_type": "code",
   "execution_count": 0,
   "metadata": {
    "application/vnd.databricks.v1+cell": {
     "cellMetadata": {
      "byteLimit": 2048000,
      "rowLimit": 10000
     },
     "inputWidgets": {},
     "nuid": "d2cc8b20-1750-4cdf-b3ee-c6e763225d81",
     "showTitle": false,
     "tableResultSettingsMap": {},
     "title": ""
    }
   },
   "outputs": [],
   "source": [
    "%run /Repos/gowdhaman.bj@diggibyte.com/databricks_assignment/source_to_bronze/utils\n"
   ]
  },
  {
   "cell_type": "code",
   "execution_count": 0,
   "metadata": {
    "application/vnd.databricks.v1+cell": {
     "cellMetadata": {
      "byteLimit": 2048000,
      "rowLimit": 10000
     },
     "inputWidgets": {},
     "nuid": "2253560f-eb36-4c1c-b369-491c81d8ee06",
     "showTitle": false,
     "tableResultSettingsMap": {},
     "title": ""
    }
   },
   "outputs": [],
   "source": [
    "from pyspark.sql.types import StructType, StructField, StringType, IntegerType\n",
    "from pyspark.sql.functions import *"
   ]
  },
  {
   "cell_type": "code",
   "execution_count": 0,
   "metadata": {
    "application/vnd.databricks.v1+cell": {
     "cellMetadata": {
      "byteLimit": 2048000,
      "rowLimit": 10000
     },
     "inputWidgets": {},
     "nuid": "174b94c9-1a31-445e-a72e-7a1b0477060b",
     "showTitle": false,
     "tableResultSettingsMap": {},
     "title": ""
    }
   },
   "outputs": [],
   "source": [
    "dept_schema = StringType([\n",
    "    StructField(\"DepartmentId\", StringType(), True),\n",
    "    StructField(\"DepartmentName\", StringType(), True)\n",
    "])\n",
    "\n",
    "employee_schema = StringType([\n",
    "    StructField(\"EmployeeId\", IntegerType(), True),\n",
    "    StructField(\"EmployeeName\", StringType(), True),\n",
    "    StructField(\"Department\", StringType(), True),\n",
    "    StructField(\"Country\", StringType(), True),\n",
    "    StructField(\"Salary\", IntegerType(), True),\n",
    "    StructField(\"Age\", IntegerType(), True)\n",
    "])\n",
    "\n",
    "country_schema = StringType([\n",
    "    StructField(\"CountryCode\", StringType(), True),\n",
    "    StructField(\"CountryName\", StringType(), True)\n",
    "])"
   ]
  },
  {
   "cell_type": "code",
   "execution_count": 0,
   "metadata": {
    "application/vnd.databricks.v1+cell": {
     "cellMetadata": {
      "byteLimit": 2048000,
      "rowLimit": 10000
     },
     "inputWidgets": {},
     "nuid": "6c197d85-2b60-463d-88ae-d43b8b3fd711",
     "showTitle": false,
     "tableResultSettingsMap": {},
     "title": ""
    }
   },
   "outputs": [],
   "source": [
    "country_csv_file = '/Volumes/databricks_assignment/documents/csvfiles/Country-Q1.csv'\n",
    "department_csv_file = '/Volumes/databricks_assignment/documents/csvfiles/Department-Q1.csv'\n",
    "employee_csv_file ='/Volumes/databricks_assignment/documents/csvfiles/Employee-Q1.csv'\n",
    "\n",
    "file_format = 'csv'"
   ]
  },
  {
   "cell_type": "code",
   "execution_count": 0,
   "metadata": {
    "application/vnd.databricks.v1+cell": {
     "cellMetadata": {
      "byteLimit": 2048000,
      "rowLimit": 10000
     },
     "inputWidgets": {},
     "nuid": "60e8a829-be6a-4d68-afa0-529ec78dfedf",
     "showTitle": false,
     "tableResultSettingsMap": {},
     "title": ""
    }
   },
   "outputs": [],
   "source": [
    "read_dept = read_file(department_csv_file,file_format,schema = dept_schema,header=True)\n",
    "read_country = read_file(country_csv_file,file_format,schema=country_schema,header=True)\n",
    "read_employee = read_file(employee_csv_file,file_format,schema=employee_schema,header=True)\n",
    "display(read_dept)\n",
    "display(read_country)\n",
    "display(read_employee)"
   ]
  },
  {
   "cell_type": "markdown",
   "metadata": {
    "application/vnd.databricks.v1+cell": {
     "cellMetadata": {},
     "inputWidgets": {},
     "nuid": "068914ae-aadf-4a70-b066-2a2094bcc2e7",
     "showTitle": false,
     "tableResultSettingsMap": {},
     "title": ""
    }
   },
   "source": [
    "convert the Camel case of the columns to the snake case using UDF. "
   ]
  },
  {
   "cell_type": "code",
   "execution_count": 0,
   "metadata": {
    "application/vnd.databricks.v1+cell": {
     "cellMetadata": {
      "byteLimit": 2048000,
      "rowLimit": 10000
     },
     "inputWidgets": {},
     "nuid": "b0cb4656-9e49-4dc3-bd31-3b4434c63a5a",
     "showTitle": false,
     "tableResultSettingsMap": {},
     "title": ""
    }
   },
   "outputs": [],
   "source": [
    "import re"
   ]
  },
  {
   "cell_type": "code",
   "execution_count": 0,
   "metadata": {
    "application/vnd.databricks.v1+cell": {
     "cellMetadata": {
      "byteLimit": 2048000,
      "rowLimit": 10000
     },
     "inputWidgets": {},
     "nuid": "fb16e1df-89a9-4338-831e-264c6cc73f44",
     "showTitle": false,
     "tableResultSettingsMap": {},
     "title": ""
    }
   },
   "outputs": [],
   "source": [
    "def camel_to_snake_case(camel_str):\n",
    "     s1 = re.sub('(.)([A-Z][a-z]+)', r'\\1_\\2', camel_str)\n",
    "     return re.sub('([a-z0-9])([A-Z])', r'\\1_\\2', s1).lower()\n",
    "\n",
    "def rename_columns_to_snake_case(df):\n",
    "    new_cols = [camel_to_snake_case(col) for col in df.columns]\n",
    "    return df.toDF(*new_cols)\n"
   ]
  },
  {
   "cell_type": "code",
   "execution_count": 0,
   "metadata": {
    "application/vnd.databricks.v1+cell": {
     "cellMetadata": {
      "byteLimit": 2048000,
      "rowLimit": 10000
     },
     "inputWidgets": {},
     "nuid": "3ef3ffd9-40f4-4657-9311-f6a2388e85b5",
     "showTitle": false,
     "tableResultSettingsMap": {},
     "title": ""
    }
   },
   "outputs": [],
   "source": [
    "read_dept = rename_columns_to_snake_case(read_dept)\n",
    "read_country = rename_columns_to_snake_case(read_country)\n",
    "read_employee = rename_columns_to_snake_case(read_employee)\n",
    "\n",
    "# Show results\n",
    "display(read_dept)\n",
    "display(read_country)\n",
    "display(read_employee)"
   ]
  },
  {
   "cell_type": "markdown",
   "metadata": {
    "application/vnd.databricks.v1+cell": {
     "cellMetadata": {},
     "inputWidgets": {},
     "nuid": "d75e6183-f29e-433f-aa07-05835cb41ac5",
     "showTitle": false,
     "tableResultSettingsMap": {},
     "title": ""
    }
   },
   "source": [
    "Add the load_date column with the current date. "
   ]
  },
  {
   "cell_type": "code",
   "execution_count": 0,
   "metadata": {
    "application/vnd.databricks.v1+cell": {
     "cellMetadata": {
      "byteLimit": 2048000,
      "rowLimit": 10000
     },
     "inputWidgets": {},
     "nuid": "ab2d6660-1394-4d7e-acf9-84bb8403185f",
     "showTitle": false,
     "tableResultSettingsMap": {},
     "title": ""
    }
   },
   "outputs": [],
   "source": [
    "employee_load_date = read_employee.withColumn('load_date', current_date())\n",
    "display(employee_load_date)"
   ]
  },
  {
   "cell_type": "markdown",
   "metadata": {
    "application/vnd.databricks.v1+cell": {
     "cellMetadata": {},
     "inputWidgets": {},
     "nuid": "4e46ae36-10ba-47a8-a78f-1fb2cac6f985",
     "showTitle": false,
     "tableResultSettingsMap": {},
     "title": ""
    }
   },
   "source": [
    "The primary key is EmployeeID, the Database name is Employee_info, Table name is dim_employee. \n",
    "\n",
    "write the DF as a delta table to the location /silver/db_name/table_name. "
   ]
  },
  {
   "cell_type": "code",
   "execution_count": 0,
   "metadata": {
    "application/vnd.databricks.v1+cell": {
     "cellMetadata": {
      "byteLimit": 2048000,
      "rowLimit": 10000
     },
     "inputWidgets": {},
     "nuid": "e456d1b9-009f-4a37-b0b7-c5b99f93a848",
     "showTitle": false,
     "tableResultSettingsMap": {},
     "title": ""
    }
   },
   "outputs": [],
   "source": [
    "employee_load_date.write.format('delta').mode('overwrite').option(\"overwriteSchema\", \"true\").saveAsTable('databricks_assignment.employe_info.dim_employee')"
   ]
  },
  {
   "cell_type": "code",
   "execution_count": 0,
   "metadata": {
    "application/vnd.databricks.v1+cell": {
     "cellMetadata": {
      "byteLimit": 2048000,
      "rowLimit": 10000
     },
     "inputWidgets": {},
     "nuid": "34b737e9-31c8-4007-b026-496ee55b7db2",
     "showTitle": false,
     "tableResultSettingsMap": {},
     "title": ""
    }
   },
   "outputs": [],
   "source": [
    "employee_load_date.write.format('delta').mode('overwrite').option(\"overwriteSchema\", \"true\").save('/Volumes/databricks_assignment/default/employee_info_table')"
   ]
  }
 ],
 "metadata": {
  "application/vnd.databricks.v1+notebook": {
   "computePreferences": null,
   "dashboards": [],
   "environmentMetadata": {
    "base_environment": "",
    "environment_version": "2"
   },
   "inputWidgetPreferences": null,
   "language": "python",
   "notebookMetadata": {
    "mostRecentlyExecutedCommandWithImplicitDF": {
     "commandId": 5325745965724561,
     "dataframes": [
      "_sqldf"
     ]
    },
    "pythonIndentUnit": 4
   },
   "notebookName": "employee_bronze_to_silver",
   "widgets": {}
  },
  "language_info": {
   "name": "python"
  }
 },
 "nbformat": 4,
 "nbformat_minor": 0
}
